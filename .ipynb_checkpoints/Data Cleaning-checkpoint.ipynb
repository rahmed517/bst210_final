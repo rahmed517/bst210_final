{
 "cells": [
  {
   "cell_type": "code",
   "execution_count": 58,
   "metadata": {},
   "outputs": [],
   "source": [
    "import pandas as pd\n",
    "import numpy as np"
   ]
  },
  {
   "cell_type": "code",
   "execution_count": 59,
   "metadata": {},
   "outputs": [],
   "source": [
    "state_info = pd.read_excel('data/expansion_status.xlsx', sheet_name = None)\n",
    "\n",
    "state_status = state_info['expansion_status']\n",
    "state_codes = state_info['state_abbreviation']\n",
    "\n",
    "quality = pd.read_csv('data/2018_Adult_Health_Care_Quality_Measures.csv')"
   ]
  },
  {
   "cell_type": "code",
   "execution_count": 60,
   "metadata": {},
   "outputs": [
    {
     "data": {
      "text/plain": [
       "array(['WA, CA, NJ, MN, DC, CT'], dtype=object)"
      ]
     },
     "execution_count": 60,
     "metadata": {},
     "output_type": "execute_result"
    }
   ],
   "source": [
    "state_status[state_status.status == 1].states.values"
   ]
  },
  {
   "cell_type": "code",
   "execution_count": 61,
   "metadata": {},
   "outputs": [],
   "source": [
    "state_status_map = dict()\n",
    "\n",
    "for status in state_status.status:\n",
    "    _states = state_status[state_status.status == status].states.values[0].split(',')\n",
    "    _map = {s.strip():status for s in _states}\n",
    "    state_status_map.update(_map)"
   ]
  },
  {
   "cell_type": "code",
   "execution_count": 62,
   "metadata": {},
   "outputs": [
    {
     "data": {
      "text/plain": [
       "Index(['State', 'abbreviation', 'state_code'], dtype='object')"
      ]
     },
     "execution_count": 62,
     "metadata": {},
     "output_type": "execute_result"
    }
   ],
   "source": [
    "state_codes.columns"
   ]
  },
  {
   "cell_type": "code",
   "execution_count": 63,
   "metadata": {},
   "outputs": [
    {
     "data": {
      "text/plain": [
       "0       Alabama\n",
       "1       Alabama\n",
       "2       Alabama\n",
       "3       Alabama\n",
       "4       Alabama\n",
       "         ...   \n",
       "1264    Wyoming\n",
       "1265    Wyoming\n",
       "1266    Wyoming\n",
       "1267    Wyoming\n",
       "1268    Wyoming\n",
       "Name: State, Length: 1269, dtype: object"
      ]
     },
     "execution_count": 63,
     "metadata": {},
     "output_type": "execute_result"
    }
   ],
   "source": [
    "quality['State']"
   ]
  },
  {
   "cell_type": "code",
   "execution_count": 64,
   "metadata": {},
   "outputs": [],
   "source": [
    "state_codes['expansion_status'] = state_codes.state_code.map(lambda x: state_status_map[x])\n",
    "quality = quality.merge(state_codes.loc[:, ['State', 'expansion_status']], on = 'State',  how = 'left')\n",
    "\n",
    "quality.set_index('State').to_csv('data/2018_Adult_Health_Care_Quality_Measures_expansion_status.csv', )"
   ]
  },
  {
   "cell_type": "code",
   "execution_count": 68,
   "metadata": {},
   "outputs": [
    {
     "data": {
      "text/plain": [
       "Index(['State', 'Domain', 'Reporting Program', 'Measure Name',\n",
       "       'Measure Abbreviation', 'Rate Definition', 'FFY', 'Population',\n",
       "       'Methodology', 'State Rate', 'Number of States Reporting', 'Median',\n",
       "       'Bottom Quartile', 'Top Quartile', 'Notes', 'State Specific Comments',\n",
       "       'Source', 'Rate Used in Calculating State Mean and Median',\n",
       "       'expansion_status'],\n",
       "      dtype='object')"
      ]
     },
     "execution_count": 68,
     "metadata": {},
     "output_type": "execute_result"
    }
   ],
   "source": [
    "quality.columns"
   ]
  },
  {
   "cell_type": "code",
   "execution_count": 70,
   "metadata": {},
   "outputs": [
    {
     "data": {
      "text/plain": [
       "['Behavioral Health Care',\n",
       " 'Care of Acute and Chronic Conditions',\n",
       " 'Maternal and Perinatal Health',\n",
       " 'Primary Care Access and Preventive Care']"
      ]
     },
     "execution_count": 70,
     "metadata": {},
     "output_type": "execute_result"
    }
   ],
   "source": [
    "sorted(quality['Domain'].unique())"
   ]
  },
  {
   "cell_type": "code",
   "execution_count": 74,
   "metadata": {},
   "outputs": [
    {
     "data": {
      "text/plain": [
       "array(['Percentage who had an Outpatient Visit with a BMI Documented in the Medical Record: Ages 18-64 Years',\n",
       "       'Percentage of Women who had a Mammogram to Screen for Breast Cancer: Ages 50-64',\n",
       "       'Percentage of Women Screened for Cervical Cancer: Ages 21-64',\n",
       "       'Percentage of Sexually Active Women Screened for Chlamydia: Ages 21-24'],\n",
       "      dtype=object)"
      ]
     },
     "execution_count": 74,
     "metadata": {},
     "output_type": "execute_result"
    }
   ],
   "source": [
    "quality[quality.Domain == 'Primary Care Access and Preventive Care']['Rate Definition'].unique()"
   ]
  },
  {
   "cell_type": "code",
   "execution_count": 76,
   "metadata": {},
   "outputs": [
    {
     "data": {
      "text/plain": [
       "array(['Percentage of Postpartum Women Provided a Most Effective or Moderately Effective Method of Contraception Within 3 Days of Delivery: Ages 21-44',\n",
       "       'Percentage of Postpartum Women Provided a Most Effective or Moderately Effective Method of Contraception Within 60 Days of Delivery: Ages 21-44',\n",
       "       'Percentage of Postpartum Women Provided a Long-Acting Reversible Method of Contraception Within 3 Days of Delivery: Ages 21-44',\n",
       "       'Percentage of Postpartum Women Provided a Long-Acting Reversible Method of Contraception Within 60 Days of Delivery: Ages 21-44',\n",
       "       'Percentage of Women Delivering a Live Birth who had a Postpartum Care Visit on or Between 21 and 56 Days after Delivery'],\n",
       "      dtype=object)"
      ]
     },
     "execution_count": 76,
     "metadata": {},
     "output_type": "execute_result"
    }
   ],
   "source": [
    "quality[quality.Domain == 'Maternal and Perinatal Health']['Rate Definition'].unique()"
   ]
  },
  {
   "cell_type": "code",
   "execution_count": 67,
   "metadata": {},
   "outputs": [
    {
     "data": {
      "text/plain": [
       "['Adherence to Antipsychotics for Individuals with Schizophrenia: Ages 19-64',\n",
       " 'Adult Body Mass Index Assessment: Ages 18-74',\n",
       " 'Annual Monitoring for Patients on Persistent Medications: Age 18 and Older',\n",
       " 'Antidepressant Medication Management: Age 18 and Older',\n",
       " 'Asthma Medication Ratio: Ages 19 to 64',\n",
       " 'Breast Cancer Screening: Ages 50-74',\n",
       " 'Cervical Cancer Screening: Ages 21-64',\n",
       " 'Chlamydia Screening in Women Ages 21-24',\n",
       " 'Comprehensive Diabetes Care: Hemoglobin A1c Poor Control (>9.0%): Ages 18-75',\n",
       " 'Comprehensive Diabetes Care: Hemoglobin A1c Testing: Ages 18-75',\n",
       " 'Contraceptive Care: Postpartum Women Ages 21-44',\n",
       " 'Controlling High Blood Pressure: Ages 18-85',\n",
       " 'Diabetes Screening for People with Schizophrenia or Bipolar Disorder Who Are Using Antipsychotic Medications: Ages 18-64',\n",
       " 'Follow-Up After Hospitalization for Mental Illness: Age 21 and Older',\n",
       " 'Follow-up After Emergency Department Visit for Mental Illness or Alcohol and Other Drug Abuse or Dependence: Age 18 and Older',\n",
       " 'Initiation and Engagement of Alcohol and Other Drug Abuse or Dependence Treatment: Age 18 and Older',\n",
       " 'PQI 01: Diabetes Short-Term Complications Admission Rate: Age 18 and Older',\n",
       " 'PQI 05: Chronic Obstructive Pulmonary Disease (COPD) or Asthma in Older Adults Admission Rate: Age 40 and Older',\n",
       " 'PQI 08: Heart Failure Admission Rate: Age 18 and Older',\n",
       " 'PQI 15: Asthma in Younger Adults Admission Rate: Ages 18-39',\n",
       " 'Plan All-Cause Readmissions: Ages 18-64',\n",
       " 'Prenatal and Postpartum Care: Postpartum Care']"
      ]
     },
     "execution_count": 67,
     "metadata": {},
     "output_type": "execute_result"
    }
   ],
   "source": [
    "sorted(quality['Measure Name'].unique())"
   ]
  }
 ],
 "metadata": {
  "kernelspec": {
   "display_name": "Python 3",
   "language": "python",
   "name": "python3"
  },
  "language_info": {
   "codemirror_mode": {
    "name": "ipython",
    "version": 3
   },
   "file_extension": ".py",
   "mimetype": "text/x-python",
   "name": "python",
   "nbconvert_exporter": "python",
   "pygments_lexer": "ipython3",
   "version": "3.7.4"
  },
  "toc": {
   "base_numbering": 1,
   "nav_menu": {},
   "number_sections": true,
   "sideBar": true,
   "skip_h1_title": false,
   "title_cell": "Table of Contents",
   "title_sidebar": "Contents",
   "toc_cell": false,
   "toc_position": {},
   "toc_section_display": true,
   "toc_window_display": false
  }
 },
 "nbformat": 4,
 "nbformat_minor": 2
}
