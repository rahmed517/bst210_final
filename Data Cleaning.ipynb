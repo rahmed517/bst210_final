{
 "cells": [
  {
   "cell_type": "code",
   "execution_count": 1,
   "metadata": {},
   "outputs": [],
   "source": [
    "import pandas as pd\n",
    "import numpy as np"
   ]
  },
  {
   "cell_type": "code",
   "execution_count": 4,
   "metadata": {},
   "outputs": [],
   "source": [
    "state_info = pd.read_excel('data/expansion_status.xlsx', sheet_name = None)\n",
    "\n",
    "state_status = state_info['expansion_status']\n",
    "state_codes = state_info['state_abbreviation']\n",
    "\n",
    "quality = pd.read_csv('data/2018_Adult_Health_Care_Quality_Measures.csv')"
   ]
  },
  {
   "cell_type": "code",
   "execution_count": 5,
   "metadata": {},
   "outputs": [
    {
     "data": {
      "text/html": [
       "<div>\n",
       "<style scoped>\n",
       "    .dataframe tbody tr th:only-of-type {\n",
       "        vertical-align: middle;\n",
       "    }\n",
       "\n",
       "    .dataframe tbody tr th {\n",
       "        vertical-align: top;\n",
       "    }\n",
       "\n",
       "    .dataframe thead th {\n",
       "        text-align: right;\n",
       "    }\n",
       "</style>\n",
       "<table border=\"1\" class=\"dataframe\">\n",
       "  <thead>\n",
       "    <tr style=\"text-align: right;\">\n",
       "      <th></th>\n",
       "      <th>status</th>\n",
       "      <th>definition</th>\n",
       "      <th>states</th>\n",
       "    </tr>\n",
       "  </thead>\n",
       "  <tbody>\n",
       "    <tr>\n",
       "      <td>0</td>\n",
       "      <td>1</td>\n",
       "      <td>Early Expansion States (2010-2013)</td>\n",
       "      <td>WA, CA, NJ, MN, DC, CT</td>\n",
       "    </tr>\n",
       "    <tr>\n",
       "      <td>1</td>\n",
       "      <td>2</td>\n",
       "      <td>1/1/2014 Expansion States</td>\n",
       "      <td>KY, NV, CO, OR, NM, WV, AR, RI, AZ, MD, MA, ND...</td>\n",
       "    </tr>\n",
       "    <tr>\n",
       "      <td>2</td>\n",
       "      <td>3</td>\n",
       "      <td>Late Expansion States (after Jan. 2014)</td>\n",
       "      <td>NH, IN, MI, PA,AK,MT,LA</td>\n",
       "    </tr>\n",
       "    <tr>\n",
       "      <td>3</td>\n",
       "      <td>4</td>\n",
       "      <td>Non-Expansion States</td>\n",
       "      <td>TN, NC, ID, GA, FL, MO, AL, MS, KS, TX, WI, UT...</td>\n",
       "    </tr>\n",
       "  </tbody>\n",
       "</table>\n",
       "</div>"
      ],
      "text/plain": [
       "   status                               definition  \\\n",
       "0       1       Early Expansion States (2010-2013)   \n",
       "1       2                1/1/2014 Expansion States   \n",
       "2       3  Late Expansion States (after Jan. 2014)   \n",
       "3       4                     Non-Expansion States   \n",
       "\n",
       "                                              states  \n",
       "0                             WA, CA, NJ, MN, DC, CT  \n",
       "1  KY, NV, CO, OR, NM, WV, AR, RI, AZ, MD, MA, ND...  \n",
       "2                            NH, IN, MI, PA,AK,MT,LA  \n",
       "3  TN, NC, ID, GA, FL, MO, AL, MS, KS, TX, WI, UT...  "
      ]
     },
     "execution_count": 5,
     "metadata": {},
     "output_type": "execute_result"
    }
   ],
   "source": [
    "state_status"
   ]
  },
  {
   "cell_type": "code",
   "execution_count": 6,
   "metadata": {},
   "outputs": [],
   "source": [
    "state_status_map = dict()\n",
    "\n",
    "for status in state_status.status:\n",
    "    _states = state_status[state_status.status == status].states.values[0].split(',')\n",
    "    _map = {s.strip():status for s in _states}\n",
    "    state_status_map.update(_map)"
   ]
  },
  {
   "cell_type": "code",
   "execution_count": 7,
   "metadata": {},
   "outputs": [
    {
     "data": {
      "text/plain": [
       "Index(['State', 'abbreviation', 'state_code'], dtype='object')"
      ]
     },
     "execution_count": 7,
     "metadata": {},
     "output_type": "execute_result"
    }
   ],
   "source": [
    "state_codes.columns"
   ]
  },
  {
   "cell_type": "code",
   "execution_count": 8,
   "metadata": {},
   "outputs": [
    {
     "data": {
      "text/plain": [
       "0       Alabama\n",
       "1       Alabama\n",
       "2       Alabama\n",
       "3       Alabama\n",
       "4       Alabama\n",
       "         ...   \n",
       "1264    Wyoming\n",
       "1265    Wyoming\n",
       "1266    Wyoming\n",
       "1267    Wyoming\n",
       "1268    Wyoming\n",
       "Name: State, Length: 1269, dtype: object"
      ]
     },
     "execution_count": 8,
     "metadata": {},
     "output_type": "execute_result"
    }
   ],
   "source": [
    "quality['State']"
   ]
  },
  {
   "cell_type": "code",
   "execution_count": 9,
   "metadata": {},
   "outputs": [],
   "source": [
    "state_codes['expansion_status'] = state_codes.state_code.map(lambda x: state_status_map[x])\n",
    "quality = quality.merge(state_codes.loc[:, ['State', 'expansion_status']], on = 'State',  how = 'left')\n",
    "quality.columns = [c.lower().replace(' ', '_') for c in quality.columns]\n",
    "quality.set_index('state').to_csv('data/2018_Adult_Health_Care_Quality_Measures_expansion_status.csv', )"
   ]
  },
  {
   "cell_type": "code",
   "execution_count": 10,
   "metadata": {},
   "outputs": [
    {
     "data": {
      "text/plain": [
       "Index(['state', 'domain', 'reporting_program', 'measure_name',\n",
       "       'measure_abbreviation', 'rate_definition', 'ffy', 'population',\n",
       "       'methodology', 'state_rate', 'number_of_states_reporting', 'median',\n",
       "       'bottom_quartile', 'top_quartile', 'notes', 'state_specific_comments',\n",
       "       'source', 'rate_used_in_calculating_state_mean_and_median',\n",
       "       'expansion_status'],\n",
       "      dtype='object')"
      ]
     },
     "execution_count": 10,
     "metadata": {},
     "output_type": "execute_result"
    }
   ],
   "source": [
    "quality.columns"
   ]
  },
  {
   "cell_type": "code",
   "execution_count": 11,
   "metadata": {},
   "outputs": [
    {
     "data": {
      "text/plain": [
       "['Behavioral Health Care',\n",
       " 'Care of Acute and Chronic Conditions',\n",
       " 'Maternal and Perinatal Health',\n",
       " 'Primary Care Access and Preventive Care']"
      ]
     },
     "execution_count": 11,
     "metadata": {},
     "output_type": "execute_result"
    }
   ],
   "source": [
    "sorted(quality['domain'].unique())"
   ]
  },
  {
   "cell_type": "code",
   "execution_count": 12,
   "metadata": {},
   "outputs": [
    {
     "data": {
      "text/plain": [
       "array(['Percentage who had an Outpatient Visit with a BMI Documented in the Medical Record: Ages 18-64 Years',\n",
       "       'Percentage of Women who had a Mammogram to Screen for Breast Cancer: Ages 50-64',\n",
       "       'Percentage of Women Screened for Cervical Cancer: Ages 21-64',\n",
       "       'Percentage of Sexually Active Women Screened for Chlamydia: Ages 21-24'],\n",
       "      dtype=object)"
      ]
     },
     "execution_count": 12,
     "metadata": {},
     "output_type": "execute_result"
    }
   ],
   "source": [
    "quality[quality.domain == 'Primary Care Access and Preventive Care']['rate_definition'].unique()"
   ]
  },
  {
   "cell_type": "code",
   "execution_count": 115,
   "metadata": {},
   "outputs": [
    {
     "data": {
      "text/plain": [
       "array(['Percentage of Postpartum Women Provided a Most Effective or Moderately Effective Method of Contraception Within 3 Days of Delivery: Ages 21-44',\n",
       "       'Percentage of Postpartum Women Provided a Most Effective or Moderately Effective Method of Contraception Within 60 Days of Delivery: Ages 21-44',\n",
       "       'Percentage of Postpartum Women Provided a Long-Acting Reversible Method of Contraception Within 3 Days of Delivery: Ages 21-44',\n",
       "       'Percentage of Postpartum Women Provided a Long-Acting Reversible Method of Contraception Within 60 Days of Delivery: Ages 21-44',\n",
       "       'Percentage of Women Delivering a Live Birth who had a Postpartum Care Visit on or Between 21 and 56 Days after Delivery'],\n",
       "      dtype=object)"
      ]
     },
     "execution_count": 115,
     "metadata": {},
     "output_type": "execute_result"
    }
   ],
   "source": [
    "quality[quality.domain == 'Maternal and Perinatal Health']['rate_definition'].unique()"
   ]
  },
  {
   "cell_type": "code",
   "execution_count": 116,
   "metadata": {},
   "outputs": [
    {
     "data": {
      "text/plain": [
       "['Adherence to Antipsychotics for Individuals with Schizophrenia: Ages 19-64',\n",
       " 'Adult Body Mass Index Assessment: Ages 18-74',\n",
       " 'Annual Monitoring for Patients on Persistent Medications: Age 18 and Older',\n",
       " 'Antidepressant Medication Management: Age 18 and Older',\n",
       " 'Asthma Medication Ratio: Ages 19 to 64',\n",
       " 'Breast Cancer Screening: Ages 50-74',\n",
       " 'Cervical Cancer Screening: Ages 21-64',\n",
       " 'Chlamydia Screening in Women Ages 21-24',\n",
       " 'Comprehensive Diabetes Care: Hemoglobin A1c Poor Control (>9.0%): Ages 18-75',\n",
       " 'Comprehensive Diabetes Care: Hemoglobin A1c Testing: Ages 18-75',\n",
       " 'Contraceptive Care: Postpartum Women Ages 21-44',\n",
       " 'Controlling High Blood Pressure: Ages 18-85',\n",
       " 'Diabetes Screening for People with Schizophrenia or Bipolar Disorder Who Are Using Antipsychotic Medications: Ages 18-64',\n",
       " 'Follow-Up After Hospitalization for Mental Illness: Age 21 and Older',\n",
       " 'Follow-up After Emergency Department Visit for Mental Illness or Alcohol and Other Drug Abuse or Dependence: Age 18 and Older',\n",
       " 'Initiation and Engagement of Alcohol and Other Drug Abuse or Dependence Treatment: Age 18 and Older',\n",
       " 'PQI 01: Diabetes Short-Term Complications Admission Rate: Age 18 and Older',\n",
       " 'PQI 05: Chronic Obstructive Pulmonary Disease (COPD) or Asthma in Older Adults Admission Rate: Age 40 and Older',\n",
       " 'PQI 08: Heart Failure Admission Rate: Age 18 and Older',\n",
       " 'PQI 15: Asthma in Younger Adults Admission Rate: Ages 18-39',\n",
       " 'Plan All-Cause Readmissions: Ages 18-64',\n",
       " 'Prenatal and Postpartum Care: Postpartum Care']"
      ]
     },
     "execution_count": 116,
     "metadata": {},
     "output_type": "execute_result"
    }
   ],
   "source": [
    "sorted(quality['measure_name'].unique())"
   ]
  },
  {
   "cell_type": "code",
   "execution_count": 117,
   "metadata": {},
   "outputs": [
    {
     "data": {
      "text/html": [
       "<div>\n",
       "<style scoped>\n",
       "    .dataframe tbody tr th:only-of-type {\n",
       "        vertical-align: middle;\n",
       "    }\n",
       "\n",
       "    .dataframe tbody tr th {\n",
       "        vertical-align: top;\n",
       "    }\n",
       "\n",
       "    .dataframe thead th {\n",
       "        text-align: right;\n",
       "    }\n",
       "</style>\n",
       "<table border=\"1\" class=\"dataframe\">\n",
       "  <thead>\n",
       "    <tr style=\"text-align: right;\">\n",
       "      <th></th>\n",
       "      <th>status</th>\n",
       "      <th>definition</th>\n",
       "      <th>states</th>\n",
       "    </tr>\n",
       "  </thead>\n",
       "  <tbody>\n",
       "    <tr>\n",
       "      <td>0</td>\n",
       "      <td>0</td>\n",
       "      <td>Non-Expansion States</td>\n",
       "      <td>TN, NC, ID, GA, FL, MO, AL, MS, KS, TX, WI, UT...</td>\n",
       "    </tr>\n",
       "    <tr>\n",
       "      <td>1</td>\n",
       "      <td>1</td>\n",
       "      <td>Early Expansion States (2010-2013)</td>\n",
       "      <td>WA, CA, NJ, MN, DC, CT</td>\n",
       "    </tr>\n",
       "    <tr>\n",
       "      <td>2</td>\n",
       "      <td>2</td>\n",
       "      <td>1/1/2014 Expansion States</td>\n",
       "      <td>KY, NV, CO, OR, NM, WV, AR, RI, AZ, MD, MA, ND...</td>\n",
       "    </tr>\n",
       "    <tr>\n",
       "      <td>3</td>\n",
       "      <td>3</td>\n",
       "      <td>Late Expansion States (after Jan. 2014)</td>\n",
       "      <td>NH, IN, MI, PA,AK,MT,LA</td>\n",
       "    </tr>\n",
       "  </tbody>\n",
       "</table>\n",
       "</div>"
      ],
      "text/plain": [
       "   status                               definition  \\\n",
       "0       0                     Non-Expansion States   \n",
       "1       1       Early Expansion States (2010-2013)   \n",
       "2       2                1/1/2014 Expansion States   \n",
       "3       3  Late Expansion States (after Jan. 2014)   \n",
       "\n",
       "                                              states  \n",
       "0  TN, NC, ID, GA, FL, MO, AL, MS, KS, TX, WI, UT...  \n",
       "1                             WA, CA, NJ, MN, DC, CT  \n",
       "2  KY, NV, CO, OR, NM, WV, AR, RI, AZ, MD, MA, ND...  \n",
       "3                            NH, IN, MI, PA,AK,MT,LA  "
      ]
     },
     "execution_count": 117,
     "metadata": {},
     "output_type": "execute_result"
    }
   ],
   "source": [
    "state_status"
   ]
  },
  {
   "cell_type": "code",
   "execution_count": 104,
   "metadata": {},
   "outputs": [
    {
     "data": {
      "text/plain": [
       "array(['Inpatient Hospital Admissions for Diabetes Short-Term Complications per 100,000 Beneficiary Months: Ages 18-64'],\n",
       "      dtype=object)"
      ]
     },
     "execution_count": 104,
     "metadata": {},
     "output_type": "execute_result"
    }
   ],
   "source": [
    "quality[quality.measure_name == 'PQI 01: Diabetes Short-Term Complications Admission Rate: Age 18 and Older'].rate_definition.unique()"
   ]
  },
  {
   "cell_type": "code",
   "execution_count": 4,
   "metadata": {},
   "outputs": [],
   "source": [
    "import pandas as pd\n",
    "#from pandas import StringIO\n",
    "f = '/Users/rowanaahmed/Downloads/H206D.dat'\n",
    "\n",
    "\n"
   ]
  },
  {
   "cell_type": "code",
   "execution_count": null,
   "metadata": {},
   "outputs": [],
   "source": [
    "#after testing replace StringIO(temp) to filename\n",
    "df = pd.read_csv(StringIO(f), \n",
    "                 sep=\"\\s+\")\n"
   ]
  },
  {
   "cell_type": "code",
   "execution_count": 7,
   "metadata": {},
   "outputs": [
    {
     "ename": "TypeError",
     "evalue": "expected str, bytes or os.PathLike object, not _io.TextIOWrapper",
     "output_type": "error",
     "traceback": [
      "\u001b[0;31m---------------------------------------------------------------------------\u001b[0m",
      "\u001b[0;31mTypeError\u001b[0m                                 Traceback (most recent call last)",
      "\u001b[0;32m<ipython-input-7-5673e6899397>\u001b[0m in \u001b[0;36m<module>\u001b[0;34m\u001b[0m\n\u001b[1;32m      1\u001b[0m \u001b[0;32mimport\u001b[0m \u001b[0mcsv\u001b[0m\u001b[0;34m\u001b[0m\u001b[0;34m\u001b[0m\u001b[0m\n\u001b[0;32m----> 2\u001b[0;31m \u001b[0;32mwith\u001b[0m \u001b[0mopen\u001b[0m\u001b[0;34m(\u001b[0m\u001b[0mf\u001b[0m\u001b[0;34m)\u001b[0m \u001b[0;32mas\u001b[0m \u001b[0mf\u001b[0m\u001b[0;34m:\u001b[0m\u001b[0;34m\u001b[0m\u001b[0;34m\u001b[0m\u001b[0m\n\u001b[0m\u001b[1;32m      3\u001b[0m     \u001b[0mreader\u001b[0m \u001b[0;34m=\u001b[0m \u001b[0mcsv\u001b[0m\u001b[0;34m.\u001b[0m\u001b[0mreader\u001b[0m\u001b[0;34m(\u001b[0m\u001b[0mf\u001b[0m\u001b[0;34m,\u001b[0m \u001b[0mdelimiter\u001b[0m\u001b[0;34m=\u001b[0m\u001b[0;34m\"\\t\"\u001b[0m\u001b[0;34m)\u001b[0m\u001b[0;34m\u001b[0m\u001b[0;34m\u001b[0m\u001b[0m\n\u001b[1;32m      4\u001b[0m \u001b[0;34m\u001b[0m\u001b[0m\n",
      "\u001b[0;31mTypeError\u001b[0m: expected str, bytes or os.PathLike object, not _io.TextIOWrapper"
     ]
    }
   ],
   "source": [
    "import csv\n",
    "with open(f) as f:\n",
    "    reader = csv.reader(f, delimiter=\"\\t\")\n",
    "    "
   ]
  },
  {
   "cell_type": "code",
   "execution_count": null,
   "metadata": {},
   "outputs": [],
   "source": []
  }
 ],
 "metadata": {
  "kernelspec": {
   "display_name": "Python 3",
   "language": "python",
   "name": "python3"
  },
  "language_info": {
   "codemirror_mode": {
    "name": "ipython",
    "version": 3
   },
   "file_extension": ".py",
   "mimetype": "text/x-python",
   "name": "python",
   "nbconvert_exporter": "python",
   "pygments_lexer": "ipython3",
   "version": "3.7.4"
  },
  "toc": {
   "base_numbering": 1,
   "nav_menu": {},
   "number_sections": true,
   "sideBar": true,
   "skip_h1_title": false,
   "title_cell": "Table of Contents",
   "title_sidebar": "Contents",
   "toc_cell": false,
   "toc_position": {},
   "toc_section_display": true,
   "toc_window_display": false
  }
 },
 "nbformat": 4,
 "nbformat_minor": 2
}
